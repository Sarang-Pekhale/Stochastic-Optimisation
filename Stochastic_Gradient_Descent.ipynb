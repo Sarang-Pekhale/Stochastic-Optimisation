{
 "cells": [
  {
   "cell_type": "markdown",
   "id": "fba8f777-8816-4b1d-8b5c-ac8594584e73",
   "metadata": {},
   "source": [
    "### Import necessary Libraries."
   ]
  },
  {
   "cell_type": "code",
   "execution_count": 1,
   "id": "b166252a-e59f-4f44-9035-515910902277",
   "metadata": {},
   "outputs": [],
   "source": [
    "from sklearn.datasets import load_diabetes\n",
    "import numpy as np\n",
    "from sklearn.linear_model import LinearRegression\n",
    "from sklearn.metrics import r2_score\n",
    "from sklearn.model_selection import train_test_split\n",
    "import time"
   ]
  },
  {
   "cell_type": "markdown",
   "id": "4c87f745-41e6-4ae7-8ee7-d566efebacd8",
   "metadata": {},
   "source": [
    "#### Load Diabetes Dataset."
   ]
  },
  {
   "cell_type": "code",
   "execution_count": 2,
   "id": "6aa0e7cf-9314-4120-a329-4a3e427ef479",
   "metadata": {},
   "outputs": [],
   "source": [
    "X,y = load_diabetes(return_X_y=True)"
   ]
  },
  {
   "cell_type": "markdown",
   "id": "2422d679-18c4-4c4f-9a42-e7c058f21d53",
   "metadata": {},
   "source": [
    "#### Shape of the dataset."
   ]
  },
  {
   "cell_type": "code",
   "execution_count": 3,
   "id": "96ecbd13-38b1-4cd5-9aa1-b337ba62addb",
   "metadata": {},
   "outputs": [
    {
     "name": "stdout",
     "output_type": "stream",
     "text": [
      "(442, 10)\n",
      "(442,)\n"
     ]
    }
   ],
   "source": [
    "print(X.shape)\n",
    "print(y.shape)"
   ]
  },
  {
   "cell_type": "markdown",
   "id": "b48989ec-0846-4868-b612-2857793ca76d",
   "metadata": {},
   "source": [
    "#### Split the dataset into Train and Test Dataset keeping test size 0.2."
   ]
  },
  {
   "cell_type": "code",
   "execution_count": 4,
   "id": "ab9b1a44-c10e-4722-ab8b-09e5f377777a",
   "metadata": {},
   "outputs": [],
   "source": [
    "X_train,X_test,y_train,y_test=train_test_split(X,y,test_size=0.2,random_state=2)"
   ]
  },
  {
   "cell_type": "markdown",
   "id": "503082c8-fbe6-4c78-881d-edc5ab7bb258",
   "metadata": {},
   "source": [
    "#### Apply Linear Regression on Train Dataset."
   ]
  },
  {
   "cell_type": "code",
   "execution_count": 5,
   "id": "9a5d8fe3-17f0-4abb-9b37-4e7255529b1d",
   "metadata": {},
   "outputs": [
    {
     "name": "stdout",
     "output_type": "stream",
     "text": [
      "Coefficients : [  -9.15865318 -205.45432163  516.69374454  340.61999905 -895.5520019\n",
      "  561.22067904  153.89310954  126.73139688  861.12700152   52.42112238]\n",
      "Intercept : 151.88331005254167\n"
     ]
    }
   ],
   "source": [
    "reg = LinearRegression()\n",
    "reg.fit(X_train,y_train)\n",
    "print(f\"Coefficients : {reg.coef_}\")\n",
    "print(f\"Intercept : {reg.intercept_}\")"
   ]
  },
  {
   "cell_type": "markdown",
   "id": "665cabcc-cd66-4521-8e6e-3c652379f7ad",
   "metadata": {},
   "source": [
    "#### Predict for Test Dataset and use R2 Score to evaluate the model."
   ]
  },
  {
   "cell_type": "code",
   "execution_count": 8,
   "id": "855d2fc5-4f84-4aad-81e7-5c75ee4c9c13",
   "metadata": {},
   "outputs": [
    {
     "name": "stdout",
     "output_type": "stream",
     "text": [
      "R2 Score : 0.4399338661568968\n"
     ]
    }
   ],
   "source": [
    "y_pred = reg.predict(X_test)\n",
    "print(f\"R2 Score : {r2_score(y_test,y_pred)}\")"
   ]
  },
  {
   "cell_type": "markdown",
   "id": "18db1746-3c50-4891-bd14-e42a1b200025",
   "metadata": {},
   "source": [
    "#### Stochastic Gradient Descent Class"
   ]
  },
  {
   "cell_type": "code",
   "execution_count": 11,
   "id": "f78b7b4f-5a9c-47af-b802-672ade941130",
   "metadata": {},
   "outputs": [],
   "source": [
    "class SGDRegressor:\n",
    "    def __init__(self,learning_rate=0.01,epochs=100):\n",
    "        self.coef_ = None\n",
    "        self.intercept_ = None\n",
    "        self.lr = learning_rate\n",
    "        self.epochs = epochs\n",
    "    \n",
    "    def fit(self,X_train,y_train):\n",
    "        self.intercept_ = 0\n",
    "        self.coef_ = np.ones(X_train.shape[1])\n",
    "        \n",
    "        for i in range(self.epochs):\n",
    "           \n",
    "            for j in range(X_train.shape[0]):\n",
    "                \n",
    "                idx = np.random.randint(0,X_train.shape[0])                       # Randomly select any observation\n",
    "                \n",
    "                y_hat = np.dot(X_train[idx],self.coef_)+self.intercept_           # Predict Y\n",
    "                \n",
    "                intercept_der = -2*(y_train[idx]-y_hat)                           # Derivative of Intercept\n",
    "                self.intercept_ = self.intercept_ - (self.lr*intercept_der)       # Intercept Update\n",
    "                \n",
    "                coef_der = -2*np.dot((y_train[idx]-y_hat),X_train[idx])           # Derivative of Coefficient\n",
    "                self.coef_ = self.coef_ - (self.lr*coef_der)                      # Coefficient Update\n",
    "                \n",
    "        print(self.intercept_,self.coef_)\n",
    "    \n",
    "    def predict(self,X_test):\n",
    "        return np.dot(X_test,self.coef_)+self.intercept_                          # Predict Y for X Test dataset"
   ]
  },
  {
   "cell_type": "markdown",
   "id": "82de88b9-f45b-46a3-bae7-02eaf68f0efe",
   "metadata": {},
   "source": [
    "#### Apply SGDRegressor."
   ]
  },
  {
   "cell_type": "code",
   "execution_count": 9,
   "id": "82256e10-9ec2-4131-91fb-c7e18f1d3da8",
   "metadata": {},
   "outputs": [
    {
     "name": "stdout",
     "output_type": "stream",
     "text": [
      "160.75312822636585 [  27.65230596 -138.76671038  448.06685839  296.3552402   -23.46791261\n",
      "  -95.24364214 -185.10302749  114.079618    406.71180508  105.57014543]\n",
      "R2 Score : 0.4399338661568968\n"
     ]
    }
   ],
   "source": [
    "Sreg = SGDRegressor()\n",
    "Sreg.fit(X_train,y_train)\n",
    "Sy_pred = Sreg.predict(X_test)\n",
    "print(f\"R2 Score : {r2_score(y_test,y_pred)}\")"
   ]
  },
  {
   "cell_type": "markdown",
   "id": "2c10756e-fbd9-4379-b8cb-28db252e82da",
   "metadata": {},
   "source": [
    "#### Cross Check with in build library SGDRegressor."
   ]
  },
  {
   "cell_type": "code",
   "execution_count": 10,
   "id": "d264bfa4-0312-44c4-bf50-1c79eda7e383",
   "metadata": {},
   "outputs": [
    {
     "name": "stderr",
     "output_type": "stream",
     "text": [
      "/nfs/cms/mtech22/pekhale.sarang/.local/lib/python3.10/site-packages/sklearn/linear_model/_stochastic_gradient.py:1561: ConvergenceWarning: Maximum number of iteration reached before convergence. Consider increasing max_iter to improve the fit.\n",
      "  warnings.warn(\n"
     ]
    },
    {
     "data": {
      "text/plain": [
       "0.43185672025007404"
      ]
     },
     "execution_count": 10,
     "metadata": {},
     "output_type": "execute_result"
    }
   ],
   "source": [
    "from sklearn.linear_model import SGDRegressor\n",
    "reg = SGDRegressor(max_iter=100,learning_rate='constant',eta0=0.01)\n",
    "reg.fit(X_train,y_train)\n",
    "y_pred = reg.predict(X_test)\n",
    "r2_score(y_test,y_pred)"
   ]
  }
 ],
 "metadata": {
  "kernelspec": {
   "display_name": "Python 3 (ipykernel)",
   "language": "python",
   "name": "python3"
  },
  "language_info": {
   "codemirror_mode": {
    "name": "ipython",
    "version": 3
   },
   "file_extension": ".py",
   "mimetype": "text/x-python",
   "name": "python",
   "nbconvert_exporter": "python",
   "pygments_lexer": "ipython3",
   "version": "3.10.12"
  }
 },
 "nbformat": 4,
 "nbformat_minor": 5
}
