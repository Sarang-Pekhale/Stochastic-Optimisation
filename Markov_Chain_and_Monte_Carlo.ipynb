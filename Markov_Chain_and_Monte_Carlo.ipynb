{
 "cells": [
  {
   "cell_type": "markdown",
   "id": "8c2904c1-b856-44a0-b44d-b7e7b518603b",
   "metadata": {},
   "source": [
    "## Markov Chain and Monte Carlo Simulations by solving Doctor's and Patient's Idle Time problem.\n",
    "## Problem statement :\n",
    "### 1) Clinic opens at 8:00 AM.\n",
    "### 2) Operations Offered : \"Filling\", \"Crown\", \"Cleaning\", \"Extraction\", \"Checkup\".\n",
    "### 3) Time required for each operation in mins : 45, 60, 15, 45, 15.\n",
    "### 4) Average number of patients for each operation : 40, 15, 15, 10, 20.\n",
    "### 5) Simulate the densist for 4 hours and determine the average waiting time for patients.\n",
    "### 6) Determine the idle time of the doctor.\n",
    "## Assumptions :\n",
    "### 1) Assume that patients came exactly at their time of appointment.\n",
    "### 2) Each patients is given a 30 min appointment.\n",
    "### 3) Use any random numbers for patient ID, try [40, 82, 11, 34, 25, 66, 17, 79], Ans = 35 min\n",
    "## How to solve :\n",
    "### 1) Calculate the probabilities for each categories or operations.\n",
    "### 2) Calculate the Cumulative probabilities (CDF).\n",
    "### 3) Set random number intervals.\n",
    "### 4) Find the answers."
   ]
  },
  {
   "cell_type": "code",
   "execution_count": 41,
   "id": "ab0e7a8e",
   "metadata": {},
   "outputs": [
    {
     "name": "stdout",
     "output_type": "stream",
     "text": [
      "CDF = [0.4, 0.55, 0.7000000000000001, 0.8, 1.0]\n"
     ]
    }
   ],
   "source": [
    "Categories = [\"Filling\",\"Crown\",\"Cleaning\",\"Extraction\",\"Checkup\"]          # Dental Process offered by the Destist or Doctor\n",
    "Time_required = [45,60,15,45,15]                                            # Time required for each process\n",
    "No_Patients = [40,15,15,10,20]                                              # Average number of patients for each process\n",
    "\n",
    "Probability_patients = []\n",
    "for i in No_Patients:\n",
    "    Probability_patients.append(i/sum(No_Patients))                         # Calculating probabilities of process based on patients           \n",
    "\n",
    "CDF_patients = []                                                           # Calculating CDF\n",
    "CDF = 0\n",
    "for i in range(len(Probability_patients)):\n",
    "    if i==0:\n",
    "        CDF_patients.append((Probability_patients[0]))\n",
    "        CDF = CDF + Probability_patients[0]\n",
    "    else:\n",
    "        CDF = CDF + Probability_patients[i]\n",
    "        CDF_patients.append((CDF))\n",
    "\n",
    "print(f\"CDF = {CDF_patients}\")"
   ]
  },
  {
   "cell_type": "markdown",
   "id": "cb0be515-59eb-49f3-8b05-df0398b97cf6",
   "metadata": {},
   "source": [
    "#### Calculating the class intervals for indexing the process into several class intervals."
   ]
  },
  {
   "cell_type": "code",
   "execution_count": 42,
   "id": "20c40730",
   "metadata": {},
   "outputs": [
    {
     "name": "stdout",
     "output_type": "stream",
     "text": [
      "Class Intervals : [0, 39, 40, 54, 55, 69, 70, 79, 80, 99]\n"
     ]
    }
   ],
   "source": [
    "\n",
    "CDF_class_interval = [0]\n",
    "\n",
    "for i in CDF_patients:\n",
    "    j = i*100\n",
    "    CDF_class_interval.append(round(j-1))\n",
    "    if i!=1:\n",
    "        CDF_class_interval.append(round(j))\n",
    "    else:\n",
    "        pass\n",
    "print(f\"Class Intervals : {CDF_class_interval}\")"
   ]
  },
  {
   "cell_type": "markdown",
   "id": "bdbd7494-8d96-4896-a29b-8a64b2d7b501",
   "metadata": {},
   "source": [
    "#### Choosing random numbers to assign 8 patients comming to dentist with specific process or patient ID."
   ]
  },
  {
   "cell_type": "code",
   "execution_count": 43,
   "id": "a07c6bd3",
   "metadata": {},
   "outputs": [
    {
     "name": "stdout",
     "output_type": "stream",
     "text": [
      "Patients with specific process : [94, 20, 1, 77, 26, 71, 74, 84]\n"
     ]
    }
   ],
   "source": [
    "import random\n",
    "Random_num = range(0,99)\n",
    "Patients = random.choices(Random_num, k=8)\n",
    "print(f\"Patients with specific process : {Patients}\")"
   ]
  },
  {
   "cell_type": "markdown",
   "id": "7445321b-c806-4ec3-a8a5-31a6c8b29275",
   "metadata": {},
   "source": [
    "#### Calculate time required for each patient"
   ]
  },
  {
   "cell_type": "code",
   "execution_count": 44,
   "id": "0cb9d69e",
   "metadata": {},
   "outputs": [
    {
     "name": "stdout",
     "output_type": "stream",
     "text": [
      "Time required for each patient : [15, 45, 45, 45, 45, 45, 45, 15]\n"
     ]
    }
   ],
   "source": [
    "Time_taken = []\n",
    "for l in Patients:\n",
    "    count = -1\n",
    "    for k in range(len(CDF_class_interval)):\n",
    "        if k==0 or k%2==0:\n",
    "            count = count + 1\n",
    "            if CDF_class_interval[k]<=l<=CDF_class_interval[k+1]:\n",
    "                Time_taken.append(Time_required[count])\n",
    "                \n",
    "print(f\"Time required for each patient : {Time_taken}\")"
   ]
  },
  {
   "cell_type": "markdown",
   "id": "07e81eb2-8e71-40fd-a3bf-ebba85a1b05c",
   "metadata": {},
   "source": [
    "#### Markov Chain and Monte Carlo Simulations."
   ]
  },
  {
   "cell_type": "code",
   "execution_count": 45,
   "id": "7c25a584",
   "metadata": {},
   "outputs": [
    {
     "name": "stdout",
     "output_type": "stream",
     "text": [
      "The Average Waiting Time for Patients is : 0:55:42.857143 min.\n",
      "\n",
      "The Average Idle Time for Doctor is : 0:15:00 min.\n"
     ]
    }
   ],
   "source": [
    "import datetime\n",
    "Appointment_Time = []\n",
    "Start_Time = datetime.datetime(2023, 8, 12,8, 0, 0)\n",
    "Appointment_Time.append(Start_Time)\n",
    "\n",
    "for m in range(len(Patients)):\n",
    "    Start_Time = Start_Time + datetime.timedelta(minutes=30)\n",
    "    Appointment_Time.append(Start_Time)\n",
    "\n",
    "\n",
    "Actual_Start_Time = datetime.datetime(2023, 8, 12,8, 0, 0)\n",
    "Actual_Time = [Actual_Start_Time]\n",
    "Actual_End_Time = []\n",
    "for n in range(len(Time_taken)):\n",
    "    End_Time = Actual_Time[-1] + datetime.timedelta(minutes=Time_taken[n])\n",
    "    Actual_End_Time.append(End_Time)\n",
    "    if Appointment_Time[n+1] <= Actual_End_Time[n]:\n",
    "        Actual_Time.append(Actual_End_Time[-1])\n",
    "    elif Appointment_Time[n+1] >= Actual_End_Time[n]:\n",
    "        Actual_Time.append(Appointment_Time[n+1])\n",
    "\n",
    "Waiting_Time = []\n",
    "for i in range(1,len(Actual_Time)):\n",
    "    if Actual_Time[i] > Appointment_Time[i]:\n",
    "        wait_time =  Actual_Time[i] - Appointment_Time[i]\n",
    "        Waiting_Time.append(wait_time)\n",
    "        \n",
    "Idle_Time = []\n",
    "for i in range(1,len(Actual_End_Time)):\n",
    "    if Actual_End_Time[i-1] < Appointment_Time[i]:\n",
    "        wait_dr = Actual_Time[i] - Actual_End_Time[i-1]\n",
    "        Idle_Time.append(wait_dr)\n",
    "        \n",
    "Avg_Wait_Time = datetime.timedelta(seconds=0)       \n",
    "for j in Waiting_Time:\n",
    "    Avg_Wait_Time = Avg_Wait_Time + j\n",
    "Avg_Wait_Time = Avg_Wait_Time/len(Waiting_Time)\n",
    "\n",
    "Avg_Idle_Time = datetime.timedelta(seconds=0)       \n",
    "for j in Idle_Time:\n",
    "    Avg_Idle_Time = Avg_Idle_Time + j\n",
    "Avg_Idle_Time = Avg_Idle_Time/len(Idle_Time)      \n",
    "            \n",
    "  \n",
    "            \n",
    "print(f\"The Average Waiting Time for Patients is : {Avg_Wait_Time} min.\\n\")\n",
    "print(f\"The Average Idle Time for Doctor is : {Avg_Idle_Time} min.\")\n",
    "    \n",
    "    \n",
    "\n",
    "\n",
    "    "
   ]
  }
 ],
 "metadata": {
  "kernelspec": {
   "display_name": "Python 3 (ipykernel)",
   "language": "python",
   "name": "python3"
  },
  "language_info": {
   "codemirror_mode": {
    "name": "ipython",
    "version": 3
   },
   "file_extension": ".py",
   "mimetype": "text/x-python",
   "name": "python",
   "nbconvert_exporter": "python",
   "pygments_lexer": "ipython3",
   "version": "3.10.12"
  }
 },
 "nbformat": 4,
 "nbformat_minor": 5
}
